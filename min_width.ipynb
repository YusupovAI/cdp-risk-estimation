{
 "cells": [
  {
   "cell_type": "code",
   "execution_count": 23,
   "id": "0c5eb096",
   "metadata": {},
   "outputs": [],
   "source": [
    "from collections import defaultdict\n",
    "\n",
    "import matplotlib.pyplot as plt\n",
    "import numpy as np\n",
    "from tqdm.notebook import tqdm\n",
    "from web3 import Web3"
   ]
  },
  {
   "cell_type": "code",
   "execution_count": 9,
   "id": "ba62344a",
   "metadata": {},
   "outputs": [],
   "source": [
    "pool_addresses = [\n",
    "    '0x45dDa9cb7c25131DF268515131f647d726f50608', # USDC-WETH 1%\n",
    "    '0xA374094527e1673A86dE625aa59517c5dE346d32', # USDC-MATIC 0.05%\n",
    "    '0x50eaEDB835021E4A108B7290636d62E9765cc6d7', # ETH-BTC 0.05%\n",
    "    '0x167384319B41F7094e62f7506409Eb38079AbfF8', # ETH-MATIC 0.3%\n",
    "    '0x5645dCB64c059aa11212707fbf4E7F984440a8Cf', # USDC-DAI 0.01%\n",
    "    '0xDaC8A8E6DBf8c690ec6815e0fF03491B2770255D', # USDC-USDT 0.01%\n",
    "    '0x0a63D3910fFC1529190e80E10855c4216407cc45', # USDC-BOB 0.01%\n",
    "]"
   ]
  },
  {
   "cell_type": "code",
   "execution_count": 10,
   "id": "63f42fbf",
   "metadata": {},
   "outputs": [],
   "source": [
    "provider = Web3.HTTPProvider('https://polygon-mainnet.g.alchemy.com/v2/59wtBsqykT4QLLVCrXLifvVFJMqO8jPO')\n",
    "w3 = Web3(provider)"
   ]
  },
  {
   "cell_type": "code",
   "execution_count": 15,
   "id": "7e30a84c",
   "metadata": {},
   "outputs": [],
   "source": [
    "with open('poolAbi.json', 'r') as file:\n",
    "    abi = file.read()\n",
    "    \n",
    "pools = [w3.eth.contract(address=address, abi=abi) for address in pool_addresses]"
   ]
  },
  {
   "cell_type": "code",
   "execution_count": 16,
   "id": "796c7917",
   "metadata": {},
   "outputs": [],
   "source": [
    "last_block = 41757376"
   ]
  },
  {
   "cell_type": "code",
   "execution_count": 29,
   "id": "d69b159d",
   "metadata": {},
   "outputs": [
    {
     "data": {
      "application/vnd.jupyter.widget-view+json": {
       "model_id": "299a0b5de5b9407ab1bd3773410436a3",
       "version_major": 2,
       "version_minor": 0
      },
      "text/plain": [
       "  0%|          | 0/50 [00:00<?, ?it/s]"
      ]
     },
     "metadata": {},
     "output_type": "display_data"
    }
   ],
   "source": [
    "collected = defaultdict(list)\n",
    "\n",
    "for i in tqdm(range(50)):\n",
    "    for pool in pools:\n",
    "        collected[pool.address].append(pool.functions.slot0().call(block_identifier=last_block - i)[1])"
   ]
  },
  {
   "cell_type": "code",
   "execution_count": 34,
   "id": "12046901",
   "metadata": {},
   "outputs": [
    {
     "data": {
      "image/png": "[encoded data removed]",
      "text/plain": [
       "<Figure size 432x288 with 1 Axes>"
      ]
     },
     "metadata": {
      "needs_background": "light"
     },
     "output_type": "display_data"
    }
   ],
   "source": [
    "idx = 0\n",
    "plt.hist(np.abs(np.diff(collected[pools[idx].address])), bins=[-.5, .5, 1.5, 2.5, 3.5, 4.5]);"
   ]
  },
  {
   "cell_type": "code",
   "execution_count": 35,
   "id": "570aacc1",
   "metadata": {},
   "outputs": [
    {
     "data": {
      "image/png": "[encoded data removed]",
      "text/plain": [
       "<Figure size 432x288 with 1 Axes>"
      ]
     },
     "metadata": {
      "needs_background": "light"
     },
     "output_type": "display_data"
    }
   ],
   "source": [
    "idx = 1\n",
    "plt.hist(np.abs(np.diff(collected[pools[idx].address])), bins=[-.5, .5, 1.5, 2.5, 3.5, 4.5]);"
   ]
  },
  {
   "cell_type": "code",
   "execution_count": 36,
   "id": "69f96581",
   "metadata": {},
   "outputs": [
    {
     "data": {
      "image/png": "[encoded data removed]",
      "text/plain": [
       "<Figure size 432x288 with 1 Axes>"
      ]
     },
     "metadata": {
      "needs_background": "light"
     },
     "output_type": "display_data"
    }
   ],
   "source": [
    "idx = 2\n",
    "plt.hist(np.abs(np.diff(collected[pools[idx].address])), bins=[-.5, .5, 1.5, 2.5, 3.5, 4.5]);"
   ]
  },
  {
   "cell_type": "code",
   "execution_count": 37,
   "id": "a1c000e0",
   "metadata": {},
   "outputs": [
    {
     "data": {
      "image/png": "[encoded data removed]",
      "text/plain": [
       "<Figure size 432x288 with 1 Axes>"
      ]
     },
     "metadata": {
      "needs_background": "light"
     },
     "output_type": "display_data"
    }
   ],
   "source": [
    "idx = 3\n",
    "plt.hist(np.abs(np.diff(collected[pools[idx].address])), bins=[-.5, .5, 1.5, 2.5, 3.5, 4.5]);"
   ]
  },
  {
   "cell_type": "code",
   "execution_count": 38,
   "id": "6a466780",
   "metadata": {},
   "outputs": [
    {
     "data": {
      "image/png": "[encoded data removed]",
      "text/plain": [
       "<Figure size 432x288 with 1 Axes>"
      ]
     },
     "metadata": {
      "needs_background": "light"
     },
     "output_type": "display_data"
    }
   ],
   "source": [
    "idx = 4\n",
    "plt.hist(np.abs(np.diff(collected[pools[idx].address])), bins=[-.5, .5, 1.5, 2.5, 3.5, 4.5]);"
   ]
  },
  {
   "cell_type": "code",
   "execution_count": 39,
   "id": "f401a973",
   "metadata": {},
   "outputs": [
    {
     "data": {
      "image/png": "[encoded data removed]",
      "text/plain": [
       "<Figure size 432x288 with 1 Axes>"
      ]
     },
     "metadata": {
      "needs_background": "light"
     },
     "output_type": "display_data"
    }
   ],
   "source": [
    "idx = 5\n",
    "plt.hist(np.abs(np.diff(collected[pools[idx].address])), bins=[-.5, .5, 1.5, 2.5, 3.5, 4.5]);"
   ]
  },
  {
   "cell_type": "code",
   "execution_count": 40,
   "id": "23f0d234",
   "metadata": {},
   "outputs": [
    {
     "data": {
      "image/png": "[encoded data removed]",
      "text/plain": [
       "<Figure size 432x288 with 1 Axes>"
      ]
     },
     "metadata": {
      "needs_background": "light"
     },
     "output_type": "display_data"
    }
   ],
   "source": [
    "idx = 6\n",
    "plt.hist(np.abs(np.diff(collected[pools[idx].address])), bins=[-.5, .5, 1.5, 2.5, 3.5, 4.5]);"
   ]
  },
  {
   "cell_type": "markdown",
   "id": "09999ea8",
   "metadata": {},
   "source": [
    "So, as you can see the first 2 pools `USDC / WETH` and `USDC / MATIC` are quite volatile, so min width for them should be 100, while others they should be 0."
   ]
  }
 ],
 "metadata": {
  "kernelspec": {
   "display_name": "Python 3 (ipykernel)",
   "language": "python",
   "name": "python3"
  },
  "language_info": {
   "codemirror_mode": {
    "name": "ipython",
    "version": 3
   },
   "file_extension": ".py",
   "mimetype": "text/x-python",
   "name": "python",
   "nbconvert_exporter": "python",
   "pygments_lexer": "ipython3",
   "version": "3.8.10"
  }
 },
 "nbformat": 4,
 "nbformat_minor": 5
}
